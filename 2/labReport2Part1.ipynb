{
 "cells": [
  {
   "cell_type": "markdown",
   "id": "b768d067",
   "metadata": {},
   "source": [
    "# ESSE 2220 – Lab 2 Report\n",
    "## Part 1\n",
    "**Course:** ESSE 2220  \n",
    "**Lab Title:** Raspberry Pi LED Morse Code  \n",
    "**Date Performed:** 2025-09-19  \n",
    "**Date Submitted:** 2025-09-19\n",
    "\n",
    "---\n",
    "\n",
    "## 1. Names & Group Info\n",
    "**Group Number:** GROUP 5  \n",
    "**Members:** Yathharthha Kaushal · Owen Oliver\n",
    "\n",
    "---\n",
    "\n",
    "## 2. Circuit Setup\n",
    "**GPIO Pin Used for LED:** `GPIO 17`\n",
    "**GPIO Pin Used for Push Button:** `GPIO 18`\n",
    "  \n",
    "We connected the LED (with resistor) to pin 26 and ground so the Raspberry Pi could control it through Python.\n",
    "\n",
    "**Schematic / Wiring Notes:**  \n",
    "- Anode (long leg) → Series resistor (212 Ω) → GPIO pin.  \n",
    "- Cathode (short leg) → Ground (GND).  \n",
    "- We used BCM because it is less hardware dependent, and works across different pi's as well (so if this program is ever to be used later on a different device, it will likely work).\n",
    "\n",
    "\n",
    "---\n",
    "\n",
    "## 3. Code (with Comments)"
   ]
  }
 ],
 "metadata": {
  "language_info": {
   "name": "python"
  }
 },
 "nbformat": 4,
 "nbformat_minor": 5
}
