{
 "cells": [
  {
   "cell_type": "markdown",
   "id": "59e49110",
   "metadata": {},
   "source": [
    "## Lab Report 1\n",
    "- ### Group 5  \n",
    "- ### Yathharthha Kaushal, Owen Oliver  \n",
    "- ### 2025-09-05"
   ]
  },
  {
   "cell_type": "markdown",
   "id": "28f72f40",
   "metadata": {},
   "source": [
    "#### Data copied from the website\n",
    "- Latitude: ``-51.03``\n",
    "- Speed: ``7.65km/s``"
   ]
  },
  {
   "cell_type": "code",
   "execution_count": null,
   "id": "01b3fbe3",
   "metadata": {
    "vscode": {
     "languageId": "plaintext"
    }
   },
   "outputs": [],
   "source": [
    "def check_hemisphere(latitude):\n",
    "    # The function checks the hemisphere of the ISS based on the given latitude\n",
    "    if latitude > 0:\n",
    "        print(\"Hello from the Northern Hemisphere!\")\n",
    "    else:\n",
    "        print(\"Hello from the Southern Hemisphere!\")\n",
    "    \n",
    "def get_relativity(speed):\n",
    "    # The function prints the ISS's speed divided by the speed of light\n",
    "    print(\"The ratio of the ISS speed to the speed of light is\", speed/299792.458,\".\")\n",
    "    \n",
    "countdown = 5\n",
    "while countdown > 0:    # The loop checks the hemisphere and relativity 5 times before ending\n",
    "    check_hemisphere(-51.03)\n",
    "    get_relativity(7.65)\n",
    "    countdown -= 1\n",
    "print(\"End\")\n"
   ]
  }
 ],
 "metadata": {
  "language_info": {
   "name": "python"
  }
 },
 "nbformat": 4,
 "nbformat_minor": 5
}
